{
 "cells": [
  {
   "cell_type": "markdown",
   "metadata": {},
   "source": [
    "# Training Models"
   ]
  },
  {
   "cell_type": "markdown",
   "metadata": {},
   "source": [
    "## Loading in the data"
   ]
  },
  {
   "cell_type": "code",
   "execution_count": 1,
   "metadata": {},
   "outputs": [],
   "source": [
    "import pandas as pd \n",
    "import numpy as np\n",
    "import matplotlib.pyplot as plt\n",
    "\n",
    "# load in all of the data\n",
    "sodankyla = pd.read_csv(r\"/Users/elliotdable/Documents/UCL/research/fabry_perot_ml/sodankyla_fpi/sodankyla_red_merged(30_seconds_diff).csv\")\n",
    "kiruna = pd.read_csv(r\"/Users/elliotdable/Documents/UCL/research/fabry_perot_ml/kiruna_fpi/kiruna_red_merged(30_seconds_diff).csv\")\n",
    "\n",
    "# all datetime columns need to be converted back to datetime from string as pandas cant save them in this format\n",
    "sodankyla.datetime = pd.to_datetime(sodankyla.datetime)\n",
    "kiruna.datetime = pd.to_datetime(kiruna.datetime)"
   ]
  },
  {
   "cell_type": "code",
   "execution_count": 2,
   "metadata": {},
   "outputs": [
    {
     "data": {
      "text/html": [
       "<div>\n",
       "<style scoped>\n",
       "    .dataframe tbody tr th:only-of-type {\n",
       "        vertical-align: middle;\n",
       "    }\n",
       "\n",
       "    .dataframe tbody tr th {\n",
       "        vertical-align: top;\n",
       "    }\n",
       "\n",
       "    .dataframe thead th {\n",
       "        text-align: right;\n",
       "    }\n",
       "</style>\n",
       "<table border=\"1\" class=\"dataframe\">\n",
       "  <thead>\n",
       "    <tr style=\"text-align: right;\">\n",
       "      <th></th>\n",
       "      <th>mirror</th>\n",
       "      <th>intensity</th>\n",
       "      <th>intensityError</th>\n",
       "      <th>windSpeed</th>\n",
       "      <th>windSpeedError</th>\n",
       "      <th>temp</th>\n",
       "      <th>tempError</th>\n",
       "      <th>chiSquared</th>\n",
       "      <th>sigToNoiseRatio</th>\n",
       "      <th>datetime</th>\n",
       "      <th>sensorTemp</th>\n",
       "      <th>skyTemp</th>\n",
       "      <th>clarity</th>\n",
       "      <th>light</th>\n",
       "      <th>rain</th>\n",
       "    </tr>\n",
       "  </thead>\n",
       "  <tbody>\n",
       "    <tr>\n",
       "      <th>0</th>\n",
       "      <td>15</td>\n",
       "      <td>19445.41</td>\n",
       "      <td>105.44</td>\n",
       "      <td>-21.77</td>\n",
       "      <td>3.26</td>\n",
       "      <td>409.98</td>\n",
       "      <td>6.53</td>\n",
       "      <td>0.12</td>\n",
       "      <td>24868.0</td>\n",
       "      <td>2019-02-01 15:16:03</td>\n",
       "      <td>2.3</td>\n",
       "      <td>-40.6</td>\n",
       "      <td>42.8</td>\n",
       "      <td>0.0</td>\n",
       "      <td>0.0</td>\n",
       "    </tr>\n",
       "    <tr>\n",
       "      <th>1</th>\n",
       "      <td>4</td>\n",
       "      <td>25100.11</td>\n",
       "      <td>79.40</td>\n",
       "      <td>-27.46</td>\n",
       "      <td>2.57</td>\n",
       "      <td>1567.10</td>\n",
       "      <td>14.51</td>\n",
       "      <td>0.37</td>\n",
       "      <td>71291.0</td>\n",
       "      <td>2019-02-01 15:19:09</td>\n",
       "      <td>2.3</td>\n",
       "      <td>-40.8</td>\n",
       "      <td>43.0</td>\n",
       "      <td>0.0</td>\n",
       "      <td>-0.2</td>\n",
       "    </tr>\n",
       "    <tr>\n",
       "      <th>2</th>\n",
       "      <td>14</td>\n",
       "      <td>31737.28</td>\n",
       "      <td>106.74</td>\n",
       "      <td>-7.93</td>\n",
       "      <td>2.73</td>\n",
       "      <td>1540.68</td>\n",
       "      <td>15.14</td>\n",
       "      <td>0.38</td>\n",
       "      <td>62523.0</td>\n",
       "      <td>2019-02-01 15:19:46</td>\n",
       "      <td>2.3</td>\n",
       "      <td>-41.7</td>\n",
       "      <td>44.0</td>\n",
       "      <td>0.0</td>\n",
       "      <td>-0.2</td>\n",
       "    </tr>\n",
       "    <tr>\n",
       "      <th>3</th>\n",
       "      <td>1</td>\n",
       "      <td>29767.50</td>\n",
       "      <td>98.48</td>\n",
       "      <td>-19.43</td>\n",
       "      <td>2.69</td>\n",
       "      <td>1547.51</td>\n",
       "      <td>14.96</td>\n",
       "      <td>0.37</td>\n",
       "      <td>64765.0</td>\n",
       "      <td>2019-02-01 15:22:52</td>\n",
       "      <td>2.2</td>\n",
       "      <td>-40.4</td>\n",
       "      <td>42.6</td>\n",
       "      <td>0.0</td>\n",
       "      <td>-0.1</td>\n",
       "    </tr>\n",
       "    <tr>\n",
       "      <th>4</th>\n",
       "      <td>8</td>\n",
       "      <td>19014.86</td>\n",
       "      <td>69.20</td>\n",
       "      <td>-53.74</td>\n",
       "      <td>2.95</td>\n",
       "      <td>1611.52</td>\n",
       "      <td>17.21</td>\n",
       "      <td>0.59</td>\n",
       "      <td>54783.0</td>\n",
       "      <td>2019-02-01 15:23:21</td>\n",
       "      <td>2.2</td>\n",
       "      <td>-40.4</td>\n",
       "      <td>42.6</td>\n",
       "      <td>0.0</td>\n",
       "      <td>-0.1</td>\n",
       "    </tr>\n",
       "  </tbody>\n",
       "</table>\n",
       "</div>"
      ],
      "text/plain": [
       "   mirror  intensity  intensityError  windSpeed  windSpeedError     temp  \\\n",
       "0      15   19445.41          105.44     -21.77            3.26   409.98   \n",
       "1       4   25100.11           79.40     -27.46            2.57  1567.10   \n",
       "2      14   31737.28          106.74      -7.93            2.73  1540.68   \n",
       "3       1   29767.50           98.48     -19.43            2.69  1547.51   \n",
       "4       8   19014.86           69.20     -53.74            2.95  1611.52   \n",
       "\n",
       "   tempError  chiSquared  sigToNoiseRatio            datetime  sensorTemp  \\\n",
       "0       6.53        0.12          24868.0 2019-02-01 15:16:03         2.3   \n",
       "1      14.51        0.37          71291.0 2019-02-01 15:19:09         2.3   \n",
       "2      15.14        0.38          62523.0 2019-02-01 15:19:46         2.3   \n",
       "3      14.96        0.37          64765.0 2019-02-01 15:22:52         2.2   \n",
       "4      17.21        0.59          54783.0 2019-02-01 15:23:21         2.2   \n",
       "\n",
       "   skyTemp  clarity  light  rain  \n",
       "0    -40.6     42.8    0.0   0.0  \n",
       "1    -40.8     43.0    0.0  -0.2  \n",
       "2    -41.7     44.0    0.0  -0.2  \n",
       "3    -40.4     42.6    0.0  -0.1  \n",
       "4    -40.4     42.6    0.0  -0.1  "
      ]
     },
     "execution_count": 2,
     "metadata": {},
     "output_type": "execute_result"
    }
   ],
   "source": [
    "sodankyla.head(5)"
   ]
  },
  {
   "cell_type": "code",
   "execution_count": 3,
   "metadata": {},
   "outputs": [
    {
     "data": {
      "text/html": [
       "<div>\n",
       "<style scoped>\n",
       "    .dataframe tbody tr th:only-of-type {\n",
       "        vertical-align: middle;\n",
       "    }\n",
       "\n",
       "    .dataframe tbody tr th {\n",
       "        vertical-align: top;\n",
       "    }\n",
       "\n",
       "    .dataframe thead th {\n",
       "        text-align: right;\n",
       "    }\n",
       "</style>\n",
       "<table border=\"1\" class=\"dataframe\">\n",
       "  <thead>\n",
       "    <tr style=\"text-align: right;\">\n",
       "      <th></th>\n",
       "      <th>mirror</th>\n",
       "      <th>intensity</th>\n",
       "      <th>intensityError</th>\n",
       "      <th>windSpeed</th>\n",
       "      <th>windSpeedError</th>\n",
       "      <th>temp</th>\n",
       "      <th>tempError</th>\n",
       "      <th>chiSquared</th>\n",
       "      <th>sigToNoiseRatio</th>\n",
       "      <th>datetime</th>\n",
       "      <th>sensorTemp</th>\n",
       "      <th>skyTemp</th>\n",
       "      <th>clarity</th>\n",
       "      <th>light</th>\n",
       "      <th>rain</th>\n",
       "    </tr>\n",
       "  </thead>\n",
       "  <tbody>\n",
       "    <tr>\n",
       "      <th>0</th>\n",
       "      <td>8</td>\n",
       "      <td>1036.74</td>\n",
       "      <td>2.41</td>\n",
       "      <td>14.41</td>\n",
       "      <td>1.09</td>\n",
       "      <td>215.49</td>\n",
       "      <td>1.27</td>\n",
       "      <td>2.36</td>\n",
       "      <td>111212.0</td>\n",
       "      <td>2019-02-01 15:04:37</td>\n",
       "      <td>-2.5</td>\n",
       "      <td>-8.3</td>\n",
       "      <td>5.8</td>\n",
       "      <td>0.0</td>\n",
       "      <td>0.6</td>\n",
       "    </tr>\n",
       "    <tr>\n",
       "      <th>1</th>\n",
       "      <td>8</td>\n",
       "      <td>3315.85</td>\n",
       "      <td>4.06</td>\n",
       "      <td>1901.73</td>\n",
       "      <td>0.49</td>\n",
       "      <td>242.92</td>\n",
       "      <td>0.71</td>\n",
       "      <td>8.44</td>\n",
       "      <td>275712.0</td>\n",
       "      <td>2019-02-01 15:04:46</td>\n",
       "      <td>-2.5</td>\n",
       "      <td>-8.3</td>\n",
       "      <td>5.8</td>\n",
       "      <td>0.0</td>\n",
       "      <td>0.6</td>\n",
       "    </tr>\n",
       "    <tr>\n",
       "      <th>2</th>\n",
       "      <td>8</td>\n",
       "      <td>1668.01</td>\n",
       "      <td>2.95</td>\n",
       "      <td>2.65</td>\n",
       "      <td>1.31</td>\n",
       "      <td>882.96</td>\n",
       "      <td>3.96</td>\n",
       "      <td>2.57</td>\n",
       "      <td>190631.0</td>\n",
       "      <td>2019-02-01 15:10:17</td>\n",
       "      <td>-2.6</td>\n",
       "      <td>-8.4</td>\n",
       "      <td>5.9</td>\n",
       "      <td>0.0</td>\n",
       "      <td>0.7</td>\n",
       "    </tr>\n",
       "    <tr>\n",
       "      <th>3</th>\n",
       "      <td>8</td>\n",
       "      <td>3305.77</td>\n",
       "      <td>3.49</td>\n",
       "      <td>1905.15</td>\n",
       "      <td>0.43</td>\n",
       "      <td>244.44</td>\n",
       "      <td>0.62</td>\n",
       "      <td>11.96</td>\n",
       "      <td>372759.0</td>\n",
       "      <td>2019-02-01 15:10:28</td>\n",
       "      <td>-2.6</td>\n",
       "      <td>-8.4</td>\n",
       "      <td>5.9</td>\n",
       "      <td>0.0</td>\n",
       "      <td>0.7</td>\n",
       "    </tr>\n",
       "    <tr>\n",
       "      <th>4</th>\n",
       "      <td>8</td>\n",
       "      <td>1674.81</td>\n",
       "      <td>3.05</td>\n",
       "      <td>12.87</td>\n",
       "      <td>1.35</td>\n",
       "      <td>886.85</td>\n",
       "      <td>4.10</td>\n",
       "      <td>2.25</td>\n",
       "      <td>179485.0</td>\n",
       "      <td>2019-02-01 15:16:08</td>\n",
       "      <td>-2.5</td>\n",
       "      <td>-8.2</td>\n",
       "      <td>5.7</td>\n",
       "      <td>0.0</td>\n",
       "      <td>0.7</td>\n",
       "    </tr>\n",
       "  </tbody>\n",
       "</table>\n",
       "</div>"
      ],
      "text/plain": [
       "   mirror  intensity  intensityError  windSpeed  windSpeedError    temp  \\\n",
       "0       8    1036.74            2.41      14.41            1.09  215.49   \n",
       "1       8    3315.85            4.06    1901.73            0.49  242.92   \n",
       "2       8    1668.01            2.95       2.65            1.31  882.96   \n",
       "3       8    3305.77            3.49    1905.15            0.43  244.44   \n",
       "4       8    1674.81            3.05      12.87            1.35  886.85   \n",
       "\n",
       "   tempError  chiSquared  sigToNoiseRatio            datetime  sensorTemp  \\\n",
       "0       1.27        2.36         111212.0 2019-02-01 15:04:37        -2.5   \n",
       "1       0.71        8.44         275712.0 2019-02-01 15:04:46        -2.5   \n",
       "2       3.96        2.57         190631.0 2019-02-01 15:10:17        -2.6   \n",
       "3       0.62       11.96         372759.0 2019-02-01 15:10:28        -2.6   \n",
       "4       4.10        2.25         179485.0 2019-02-01 15:16:08        -2.5   \n",
       "\n",
       "   skyTemp  clarity  light  rain  \n",
       "0     -8.3      5.8    0.0   0.6  \n",
       "1     -8.3      5.8    0.0   0.6  \n",
       "2     -8.4      5.9    0.0   0.7  \n",
       "3     -8.4      5.9    0.0   0.7  \n",
       "4     -8.2      5.7    0.0   0.7  "
      ]
     },
     "execution_count": 3,
     "metadata": {},
     "output_type": "execute_result"
    }
   ],
   "source": [
    "kiruna.head(5)"
   ]
  },
  {
   "cell_type": "markdown",
   "metadata": {},
   "source": [
    "We're going to need ome type of regression algorithm to model relationships between the data"
   ]
  },
  {
   "cell_type": "markdown",
   "metadata": {},
   "source": [
    "## Regression"
   ]
  },
  {
   "cell_type": "markdown",
   "metadata": {},
   "source": [
    "Set parameters"
   ]
  },
  {
   "cell_type": "code",
   "execution_count": 4,
   "metadata": {},
   "outputs": [],
   "source": [
    "# Common imports\n",
    "import os\n",
    "import numpy as np\n",
    "np.random.seed(42) # To make this notebook's output stable across runs\n",
    "\n",
    "# To plot pretty figures\n",
    "%matplotlib inline\n",
    "import matplotlib\n",
    "import matplotlib.pyplot as plt\n",
    "plt.rcParams['axes.labelsize'] = 14\n",
    "plt.rcParams['xtick.labelsize'] = 12\n",
    "plt.rcParams['ytick.labelsize'] = 12"
   ]
  },
  {
   "cell_type": "code",
   "execution_count": 5,
   "metadata": {},
   "outputs": [],
   "source": [
    "import tensorflow as tf\n",
    "from tensorflow.keras.models import Sequential\n",
    "from tensorflow.keras.layers import Dense\n",
    "from sklearn.model_selection import train_test_split\n",
    "from sklearn.preprocessing import StandardScaler"
   ]
  },
  {
   "cell_type": "code",
   "execution_count": 6,
   "metadata": {},
   "outputs": [],
   "source": [
    "from tensorflow import keras\n",
    "\n",
    "# to make this notebook's output stable across runs\n",
    "def reset_state(seed=42):\n",
    "    tf.keras.backend.clear_session()\n",
    "    tf.random.set_seed(seed)\n",
    "    np.random.seed(seed)"
   ]
  },
  {
   "cell_type": "code",
   "execution_count": 7,
   "metadata": {},
   "outputs": [
    {
     "data": {
      "text/plain": [
       "['Constant',\n",
       " 'GlorotNormal',\n",
       " 'GlorotUniform',\n",
       " 'HeNormal',\n",
       " 'HeUniform',\n",
       " 'Identity',\n",
       " 'IdentityInitializer',\n",
       " 'Initializer',\n",
       " 'LecunNormal',\n",
       " 'LecunUniform',\n",
       " 'Ones',\n",
       " 'Orthogonal',\n",
       " 'OrthogonalInitializer',\n",
       " 'RandomNormal',\n",
       " 'RandomUniform',\n",
       " 'TruncatedNormal',\n",
       " 'VarianceScaling',\n",
       " 'Zeros',\n",
       " 'constant',\n",
       " 'deserialize',\n",
       " 'get',\n",
       " 'glorot_normal',\n",
       " 'glorot_uniform',\n",
       " 'he_normal',\n",
       " 'he_uniform',\n",
       " 'identity',\n",
       " 'lecun_normal',\n",
       " 'lecun_uniform',\n",
       " 'ones',\n",
       " 'orthogonal',\n",
       " 'random_normal',\n",
       " 'random_uniform',\n",
       " 'serialize',\n",
       " 'truncated_normal',\n",
       " 'variance_scaling',\n",
       " 'zeros']"
      ]
     },
     "execution_count": 7,
     "metadata": {},
     "output_type": "execute_result"
    }
   ],
   "source": [
    "#list of weight initialisers we can use\n",
    "[name for name in dir(keras.initializers) if not name.startswith(\"_\")]"
   ]
  },
  {
   "cell_type": "code",
   "execution_count": 8,
   "metadata": {},
   "outputs": [
    {
     "data": {
      "text/plain": [
       "['deserialize',\n",
       " 'elu',\n",
       " 'exponential',\n",
       " 'gelu',\n",
       " 'get',\n",
       " 'hard_sigmoid',\n",
       " 'hard_silu',\n",
       " 'hard_swish',\n",
       " 'leaky_relu',\n",
       " 'linear',\n",
       " 'log_softmax',\n",
       " 'mish',\n",
       " 'relu',\n",
       " 'relu6',\n",
       " 'selu',\n",
       " 'serialize',\n",
       " 'sigmoid',\n",
       " 'silu',\n",
       " 'softmax',\n",
       " 'softplus',\n",
       " 'softsign',\n",
       " 'swish',\n",
       " 'tanh']"
      ]
     },
     "execution_count": 8,
     "metadata": {},
     "output_type": "execute_result"
    }
   ],
   "source": [
    "#list of activation functions we can use\n",
    "[m for m in dir(keras.activations) if not m.startswith(\"_\")]"
   ]
  },
  {
   "cell_type": "code",
   "execution_count": 9,
   "metadata": {},
   "outputs": [
    {
     "data": {
      "text/plain": [
       "['Adadelta',\n",
       " 'Adafactor',\n",
       " 'Adagrad',\n",
       " 'Adam',\n",
       " 'AdamW',\n",
       " 'Adamax',\n",
       " 'Ftrl',\n",
       " 'Lion',\n",
       " 'LossScaleOptimizer',\n",
       " 'Nadam',\n",
       " 'Optimizer',\n",
       " 'RMSprop',\n",
       " 'SGD',\n",
       " 'deserialize',\n",
       " 'get',\n",
       " 'legacy',\n",
       " 'schedules',\n",
       " 'serialize']"
      ]
     },
     "execution_count": 9,
     "metadata": {},
     "output_type": "execute_result"
    }
   ],
   "source": [
    "#list of optimizers we can use\n",
    "[m for m in dir(keras.optimizers) if not m.startswith(\"_\")]"
   ]
  },
  {
   "cell_type": "code",
   "execution_count": 10,
   "metadata": {},
   "outputs": [
    {
     "data": {
      "text/plain": [
       "Index(['mirror', 'intensity', 'intensityError', 'windSpeed', 'windSpeedError',\n",
       "       'temp', 'tempError', 'chiSquared', 'sigToNoiseRatio', 'datetime',\n",
       "       'sensorTemp', 'skyTemp', 'clarity', 'light', 'rain'],\n",
       "      dtype='object')"
      ]
     },
     "execution_count": 10,
     "metadata": {},
     "output_type": "execute_result"
    }
   ],
   "source": [
    "#reminder of the keys we can use in our dataframe \n",
    "sodankyla.keys()"
   ]
  },
  {
   "cell_type": "code",
   "execution_count": 11,
   "metadata": {},
   "outputs": [],
   "source": [
    "#selecting the keys we want to train the model with\n",
    "X_df = sodankyla[['intensity', 'intensityError', 'windSpeed', 'windSpeedError', 'chiSquared', 'sigToNoiseRatio',\n",
    "       'sensorTemp', 'skyTemp', 'clarity', 'light', 'rain']]\n",
    "\n",
    "#convert the df to numpy array as this is what tf wants\n",
    "X = X_df.to_numpy()\n",
    "\n",
    "#sleetc and convert the target to numpy array as this is what tf wants\n",
    "y = sodankyla['temp'].to_numpy()"
   ]
  },
  {
   "cell_type": "code",
   "execution_count": 12,
   "metadata": {},
   "outputs": [],
   "source": [
    "# Split the data into training and testing sets\n",
    "X_train, X_test, y_train, y_test = train_test_split(X, y, test_size=0.2, random_state=42)\n",
    "\n",
    "# Initialize the scaler\n",
    "scaler = StandardScaler()\n",
    "\n",
    "# Fit the scaler on the training data and transform\n",
    "X_train_scaled = scaler.fit_transform(X_train)\n",
    "\n",
    "# Transform the test data\n",
    "X_test_scaled = scaler.transform(X_test)"
   ]
  },
  {
   "cell_type": "code",
   "execution_count": 13,
   "metadata": {},
   "outputs": [
    {
     "name": "stderr",
     "output_type": "stream",
     "text": [
      "/Users/elliotdable/anaconda3/envs/research/lib/python3.12/site-packages/keras/src/layers/core/dense.py:87: UserWarning: Do not pass an `input_shape`/`input_dim` argument to a layer. When using Sequential models, prefer using an `Input(shape)` object as the first layer in the model instead.\n",
      "  super().__init__(activity_regularizer=activity_regularizer, **kwargs)\n"
     ]
    },
    {
     "data": {
      "text/html": [
       "<pre style=\"white-space:pre;overflow-x:auto;line-height:normal;font-family:Menlo,'DejaVu Sans Mono',consolas,'Courier New',monospace\"><span style=\"font-weight: bold\">Model: \"sequential\"</span>\n",
       "</pre>\n"
      ],
      "text/plain": [
       "\u001b[1mModel: \"sequential\"\u001b[0m\n"
      ]
     },
     "metadata": {},
     "output_type": "display_data"
    },
    {
     "data": {
      "text/html": [
       "<pre style=\"white-space:pre;overflow-x:auto;line-height:normal;font-family:Menlo,'DejaVu Sans Mono',consolas,'Courier New',monospace\">┏━━━━━━━━━━━━━━━━━━━━━━━━━━━━━━━━━┳━━━━━━━━━━━━━━━━━━━━━━━━┳━━━━━━━━━━━━━━━┓\n",
       "┃<span style=\"font-weight: bold\"> Layer (type)                    </span>┃<span style=\"font-weight: bold\"> Output Shape           </span>┃<span style=\"font-weight: bold\">       Param # </span>┃\n",
       "┡━━━━━━━━━━━━━━━━━━━━━━━━━━━━━━━━━╇━━━━━━━━━━━━━━━━━━━━━━━━╇━━━━━━━━━━━━━━━┩\n",
       "│ dense (<span style=\"color: #0087ff; text-decoration-color: #0087ff\">Dense</span>)                   │ (<span style=\"color: #00d7ff; text-decoration-color: #00d7ff\">None</span>, <span style=\"color: #00af00; text-decoration-color: #00af00\">64</span>)             │           <span style=\"color: #00af00; text-decoration-color: #00af00\">768</span> │\n",
       "├─────────────────────────────────┼────────────────────────┼───────────────┤\n",
       "│ dense_1 (<span style=\"color: #0087ff; text-decoration-color: #0087ff\">Dense</span>)                 │ (<span style=\"color: #00d7ff; text-decoration-color: #00d7ff\">None</span>, <span style=\"color: #00af00; text-decoration-color: #00af00\">32</span>)             │         <span style=\"color: #00af00; text-decoration-color: #00af00\">2,080</span> │\n",
       "├─────────────────────────────────┼────────────────────────┼───────────────┤\n",
       "│ dense_2 (<span style=\"color: #0087ff; text-decoration-color: #0087ff\">Dense</span>)                 │ (<span style=\"color: #00d7ff; text-decoration-color: #00d7ff\">None</span>, <span style=\"color: #00af00; text-decoration-color: #00af00\">1</span>)              │            <span style=\"color: #00af00; text-decoration-color: #00af00\">33</span> │\n",
       "└─────────────────────────────────┴────────────────────────┴───────────────┘\n",
       "</pre>\n"
      ],
      "text/plain": [
       "┏━━━━━━━━━━━━━━━━━━━━━━━━━━━━━━━━━┳━━━━━━━━━━━━━━━━━━━━━━━━┳━━━━━━━━━━━━━━━┓\n",
       "┃\u001b[1m \u001b[0m\u001b[1mLayer (type)                   \u001b[0m\u001b[1m \u001b[0m┃\u001b[1m \u001b[0m\u001b[1mOutput Shape          \u001b[0m\u001b[1m \u001b[0m┃\u001b[1m \u001b[0m\u001b[1m      Param #\u001b[0m\u001b[1m \u001b[0m┃\n",
       "┡━━━━━━━━━━━━━━━━━━━━━━━━━━━━━━━━━╇━━━━━━━━━━━━━━━━━━━━━━━━╇━━━━━━━━━━━━━━━┩\n",
       "│ dense (\u001b[38;5;33mDense\u001b[0m)                   │ (\u001b[38;5;45mNone\u001b[0m, \u001b[38;5;34m64\u001b[0m)             │           \u001b[38;5;34m768\u001b[0m │\n",
       "├─────────────────────────────────┼────────────────────────┼───────────────┤\n",
       "│ dense_1 (\u001b[38;5;33mDense\u001b[0m)                 │ (\u001b[38;5;45mNone\u001b[0m, \u001b[38;5;34m32\u001b[0m)             │         \u001b[38;5;34m2,080\u001b[0m │\n",
       "├─────────────────────────────────┼────────────────────────┼───────────────┤\n",
       "│ dense_2 (\u001b[38;5;33mDense\u001b[0m)                 │ (\u001b[38;5;45mNone\u001b[0m, \u001b[38;5;34m1\u001b[0m)              │            \u001b[38;5;34m33\u001b[0m │\n",
       "└─────────────────────────────────┴────────────────────────┴───────────────┘\n"
      ]
     },
     "metadata": {},
     "output_type": "display_data"
    },
    {
     "data": {
      "text/html": [
       "<pre style=\"white-space:pre;overflow-x:auto;line-height:normal;font-family:Menlo,'DejaVu Sans Mono',consolas,'Courier New',monospace\"><span style=\"font-weight: bold\"> Total params: </span><span style=\"color: #00af00; text-decoration-color: #00af00\">2,881</span> (11.25 KB)\n",
       "</pre>\n"
      ],
      "text/plain": [
       "\u001b[1m Total params: \u001b[0m\u001b[38;5;34m2,881\u001b[0m (11.25 KB)\n"
      ]
     },
     "metadata": {},
     "output_type": "display_data"
    },
    {
     "data": {
      "text/html": [
       "<pre style=\"white-space:pre;overflow-x:auto;line-height:normal;font-family:Menlo,'DejaVu Sans Mono',consolas,'Courier New',monospace\"><span style=\"font-weight: bold\"> Trainable params: </span><span style=\"color: #00af00; text-decoration-color: #00af00\">2,881</span> (11.25 KB)\n",
       "</pre>\n"
      ],
      "text/plain": [
       "\u001b[1m Trainable params: \u001b[0m\u001b[38;5;34m2,881\u001b[0m (11.25 KB)\n"
      ]
     },
     "metadata": {},
     "output_type": "display_data"
    },
    {
     "data": {
      "text/html": [
       "<pre style=\"white-space:pre;overflow-x:auto;line-height:normal;font-family:Menlo,'DejaVu Sans Mono',consolas,'Courier New',monospace\"><span style=\"font-weight: bold\"> Non-trainable params: </span><span style=\"color: #00af00; text-decoration-color: #00af00\">0</span> (0.00 B)\n",
       "</pre>\n"
      ],
      "text/plain": [
       "\u001b[1m Non-trainable params: \u001b[0m\u001b[38;5;34m0\u001b[0m (0.00 B)\n"
      ]
     },
     "metadata": {},
     "output_type": "display_data"
    }
   ],
   "source": [
    "# Initialize the neural network model\n",
    "reset_state()\n",
    "model = Sequential()\n",
    "\n",
    "# Add layers with He initialization\n",
    "model.add(Dense(64, input_dim=len(X_df.keys()), activation='relu', kernel_initializer='he_normal'))\n",
    "model.add(Dense(32, activation='relu', kernel_initializer='he_normal'))\n",
    "model.add(Dense(1, activation='relu', kernel_initializer='he_normal'))  # Output layer for regression\n",
    "\n",
    "model.summary()"
   ]
  },
  {
   "cell_type": "code",
   "execution_count": 14,
   "metadata": {},
   "outputs": [],
   "source": [
    "model.compile(loss='mean_squared_error',\n",
    "                optimizer='Adam',\n",
    "                metrics=[\"accuracy\"])"
   ]
  },
  {
   "cell_type": "code",
   "execution_count": 15,
   "metadata": {},
   "outputs": [
    {
     "name": "stdout",
     "output_type": "stream",
     "text": [
      "Epoch 1/50\n",
      "\u001b[1m1237/1237\u001b[0m \u001b[32m━━━━━━━━━━━━━━━━━━━━\u001b[0m\u001b[37m\u001b[0m \u001b[1m1s\u001b[0m 451us/step - accuracy: 0.0000e+00 - loss: 1773563.6250 - val_accuracy: 0.0000e+00 - val_loss: 263422.9688\n",
      "Epoch 2/50\n",
      "\u001b[1m1237/1237\u001b[0m \u001b[32m━━━━━━━━━━━━━━━━━━━━\u001b[0m\u001b[37m\u001b[0m \u001b[1m0s\u001b[0m 370us/step - accuracy: 0.0000e+00 - loss: 242743.6094 - val_accuracy: 0.0000e+00 - val_loss: 199757.5469\n",
      "Epoch 3/50\n",
      "\u001b[1m1237/1237\u001b[0m \u001b[32m━━━━━━━━━━━━━━━━━━━━\u001b[0m\u001b[37m\u001b[0m \u001b[1m0s\u001b[0m 367us/step - accuracy: 0.0000e+00 - loss: 194879.6719 - val_accuracy: 0.0000e+00 - val_loss: 180063.6094\n",
      "Epoch 4/50\n",
      "\u001b[1m1237/1237\u001b[0m \u001b[32m━━━━━━━━━━━━━━━━━━━━\u001b[0m\u001b[37m\u001b[0m \u001b[1m0s\u001b[0m 365us/step - accuracy: 0.0000e+00 - loss: 178246.8438 - val_accuracy: 0.0000e+00 - val_loss: 168367.5938\n",
      "Epoch 5/50\n",
      "\u001b[1m1237/1237\u001b[0m \u001b[32m━━━━━━━━━━━━━━━━━━━━\u001b[0m\u001b[37m\u001b[0m \u001b[1m0s\u001b[0m 377us/step - accuracy: 0.0000e+00 - loss: 167459.1094 - val_accuracy: 0.0000e+00 - val_loss: 159692.3281\n",
      "Epoch 6/50\n",
      "\u001b[1m1237/1237\u001b[0m \u001b[32m━━━━━━━━━━━━━━━━━━━━\u001b[0m\u001b[37m\u001b[0m \u001b[1m0s\u001b[0m 364us/step - accuracy: 0.0000e+00 - loss: 159377.0938 - val_accuracy: 0.0000e+00 - val_loss: 153099.7812\n",
      "Epoch 7/50\n",
      "\u001b[1m1237/1237\u001b[0m \u001b[32m━━━━━━━━━━━━━━━━━━━━\u001b[0m\u001b[37m\u001b[0m \u001b[1m0s\u001b[0m 365us/step - accuracy: 0.0000e+00 - loss: 153137.7812 - val_accuracy: 0.0000e+00 - val_loss: 147764.7188\n",
      "Epoch 8/50\n",
      "\u001b[1m1237/1237\u001b[0m \u001b[32m━━━━━━━━━━━━━━━━━━━━\u001b[0m\u001b[37m\u001b[0m \u001b[1m0s\u001b[0m 357us/step - accuracy: 0.0000e+00 - loss: 147759.7344 - val_accuracy: 0.0000e+00 - val_loss: 142493.2500\n",
      "Epoch 9/50\n",
      "\u001b[1m1237/1237\u001b[0m \u001b[32m━━━━━━━━━━━━━━━━━━━━\u001b[0m\u001b[37m\u001b[0m \u001b[1m0s\u001b[0m 376us/step - accuracy: 0.0000e+00 - loss: 142473.3281 - val_accuracy: 0.0000e+00 - val_loss: 136372.2500\n",
      "Epoch 10/50\n",
      "\u001b[1m1237/1237\u001b[0m \u001b[32m━━━━━━━━━━━━━━━━━━━━\u001b[0m\u001b[37m\u001b[0m \u001b[1m0s\u001b[0m 370us/step - accuracy: 0.0000e+00 - loss: 136238.1406 - val_accuracy: 0.0000e+00 - val_loss: 128908.4062\n",
      "Epoch 11/50\n",
      "\u001b[1m1237/1237\u001b[0m \u001b[32m━━━━━━━━━━━━━━━━━━━━\u001b[0m\u001b[37m\u001b[0m \u001b[1m1s\u001b[0m 415us/step - accuracy: 0.0000e+00 - loss: 128937.5703 - val_accuracy: 0.0000e+00 - val_loss: 119558.2266\n",
      "Epoch 12/50\n",
      "\u001b[1m1237/1237\u001b[0m \u001b[32m━━━━━━━━━━━━━━━━━━━━\u001b[0m\u001b[37m\u001b[0m \u001b[1m1s\u001b[0m 394us/step - accuracy: 0.0000e+00 - loss: 119776.4375 - val_accuracy: 0.0000e+00 - val_loss: 108216.6953\n",
      "Epoch 13/50\n",
      "\u001b[1m1237/1237\u001b[0m \u001b[32m━━━━━━━━━━━━━━━━━━━━\u001b[0m\u001b[37m\u001b[0m \u001b[1m1s\u001b[0m 417us/step - accuracy: 0.0000e+00 - loss: 108517.1484 - val_accuracy: 0.0000e+00 - val_loss: 95119.5938\n",
      "Epoch 14/50\n",
      "\u001b[1m1237/1237\u001b[0m \u001b[32m━━━━━━━━━━━━━━━━━━━━\u001b[0m\u001b[37m\u001b[0m \u001b[1m1s\u001b[0m 401us/step - accuracy: 0.0000e+00 - loss: 95754.7266 - val_accuracy: 0.0000e+00 - val_loss: 85323.6250\n",
      "Epoch 15/50\n",
      "\u001b[1m1237/1237\u001b[0m \u001b[32m━━━━━━━━━━━━━━━━━━━━\u001b[0m\u001b[37m\u001b[0m \u001b[1m0s\u001b[0m 387us/step - accuracy: 0.0000e+00 - loss: 86363.5078 - val_accuracy: 0.0000e+00 - val_loss: 79101.3125\n",
      "Epoch 16/50\n",
      "\u001b[1m1237/1237\u001b[0m \u001b[32m━━━━━━━━━━━━━━━━━━━━\u001b[0m\u001b[37m\u001b[0m \u001b[1m0s\u001b[0m 378us/step - accuracy: 0.0000e+00 - loss: 79841.4453 - val_accuracy: 0.0000e+00 - val_loss: 74340.0156\n",
      "Epoch 17/50\n",
      "\u001b[1m1237/1237\u001b[0m \u001b[32m━━━━━━━━━━━━━━━━━━━━\u001b[0m\u001b[37m\u001b[0m \u001b[1m0s\u001b[0m 362us/step - accuracy: 0.0000e+00 - loss: 74739.8594 - val_accuracy: 0.0000e+00 - val_loss: 70249.6016\n",
      "Epoch 18/50\n",
      "\u001b[1m1237/1237\u001b[0m \u001b[32m━━━━━━━━━━━━━━━━━━━━\u001b[0m\u001b[37m\u001b[0m \u001b[1m0s\u001b[0m 372us/step - accuracy: 0.0000e+00 - loss: 70344.7109 - val_accuracy: 0.0000e+00 - val_loss: 66528.9766\n",
      "Epoch 19/50\n",
      "\u001b[1m1237/1237\u001b[0m \u001b[32m━━━━━━━━━━━━━━━━━━━━\u001b[0m\u001b[37m\u001b[0m \u001b[1m0s\u001b[0m 368us/step - accuracy: 0.0000e+00 - loss: 66353.8203 - val_accuracy: 0.0000e+00 - val_loss: 63009.8086\n",
      "Epoch 20/50\n",
      "\u001b[1m1237/1237\u001b[0m \u001b[32m━━━━━━━━━━━━━━━━━━━━\u001b[0m\u001b[37m\u001b[0m \u001b[1m0s\u001b[0m 368us/step - accuracy: 0.0000e+00 - loss: 62663.9883 - val_accuracy: 0.0000e+00 - val_loss: 59658.6406\n",
      "Epoch 21/50\n",
      "\u001b[1m1237/1237\u001b[0m \u001b[32m━━━━━━━━━━━━━━━━━━━━\u001b[0m\u001b[37m\u001b[0m \u001b[1m0s\u001b[0m 374us/step - accuracy: 0.0000e+00 - loss: 59318.4922 - val_accuracy: 0.0000e+00 - val_loss: 56733.4727\n",
      "Epoch 22/50\n",
      "\u001b[1m1237/1237\u001b[0m \u001b[32m━━━━━━━━━━━━━━━━━━━━\u001b[0m\u001b[37m\u001b[0m \u001b[1m1s\u001b[0m 408us/step - accuracy: 0.0000e+00 - loss: 56394.7891 - val_accuracy: 0.0000e+00 - val_loss: 54048.9141\n",
      "Epoch 23/50\n",
      "\u001b[1m1237/1237\u001b[0m \u001b[32m━━━━━━━━━━━━━━━━━━━━\u001b[0m\u001b[37m\u001b[0m \u001b[1m0s\u001b[0m 361us/step - accuracy: 0.0000e+00 - loss: 53815.2852 - val_accuracy: 0.0000e+00 - val_loss: 51636.9961\n",
      "Epoch 24/50\n",
      "\u001b[1m1237/1237\u001b[0m \u001b[32m━━━━━━━━━━━━━━━━━━━━\u001b[0m\u001b[37m\u001b[0m \u001b[1m0s\u001b[0m 369us/step - accuracy: 0.0000e+00 - loss: 51528.2656 - val_accuracy: 0.0000e+00 - val_loss: 49482.4453\n",
      "Epoch 25/50\n",
      "\u001b[1m1237/1237\u001b[0m \u001b[32m━━━━━━━━━━━━━━━━━━━━\u001b[0m\u001b[37m\u001b[0m \u001b[1m0s\u001b[0m 372us/step - accuracy: 0.0000e+00 - loss: 49502.9141 - val_accuracy: 0.0000e+00 - val_loss: 47604.8594\n",
      "Epoch 26/50\n",
      "\u001b[1m1237/1237\u001b[0m \u001b[32m━━━━━━━━━━━━━━━━━━━━\u001b[0m\u001b[37m\u001b[0m \u001b[1m0s\u001b[0m 391us/step - accuracy: 0.0000e+00 - loss: 47722.4805 - val_accuracy: 0.0000e+00 - val_loss: 45971.4414\n",
      "Epoch 27/50\n",
      "\u001b[1m1237/1237\u001b[0m \u001b[32m━━━━━━━━━━━━━━━━━━━━\u001b[0m\u001b[37m\u001b[0m \u001b[1m0s\u001b[0m 386us/step - accuracy: 0.0000e+00 - loss: 46177.2969 - val_accuracy: 0.0000e+00 - val_loss: 44533.0586\n",
      "Epoch 28/50\n",
      "\u001b[1m1237/1237\u001b[0m \u001b[32m━━━━━━━━━━━━━━━━━━━━\u001b[0m\u001b[37m\u001b[0m \u001b[1m0s\u001b[0m 362us/step - accuracy: 0.0000e+00 - loss: 44805.3398 - val_accuracy: 0.0000e+00 - val_loss: 43256.7344\n",
      "Epoch 29/50\n",
      "\u001b[1m1237/1237\u001b[0m \u001b[32m━━━━━━━━━━━━━━━━━━━━\u001b[0m\u001b[37m\u001b[0m \u001b[1m0s\u001b[0m 369us/step - accuracy: 0.0000e+00 - loss: 43584.6406 - val_accuracy: 0.0000e+00 - val_loss: 42106.7461\n",
      "Epoch 30/50\n",
      "\u001b[1m1237/1237\u001b[0m \u001b[32m━━━━━━━━━━━━━━━━━━━━\u001b[0m\u001b[37m\u001b[0m \u001b[1m0s\u001b[0m 367us/step - accuracy: 0.0000e+00 - loss: 42474.6172 - val_accuracy: 0.0000e+00 - val_loss: 41062.0664\n",
      "Epoch 31/50\n",
      "\u001b[1m1237/1237\u001b[0m \u001b[32m━━━━━━━━━━━━━━━━━━━━\u001b[0m\u001b[37m\u001b[0m \u001b[1m0s\u001b[0m 362us/step - accuracy: 0.0000e+00 - loss: 41444.1367 - val_accuracy: 0.0000e+00 - val_loss: 40097.1445\n",
      "Epoch 32/50\n",
      "\u001b[1m1237/1237\u001b[0m \u001b[32m━━━━━━━━━━━━━━━━━━━━\u001b[0m\u001b[37m\u001b[0m \u001b[1m0s\u001b[0m 368us/step - accuracy: 0.0000e+00 - loss: 40466.1406 - val_accuracy: 0.0000e+00 - val_loss: 39200.1797\n",
      "Epoch 33/50\n",
      "\u001b[1m1237/1237\u001b[0m \u001b[32m━━━━━━━━━━━━━━━━━━━━\u001b[0m\u001b[37m\u001b[0m \u001b[1m1s\u001b[0m 395us/step - accuracy: 0.0000e+00 - loss: 39559.6797 - val_accuracy: 0.0000e+00 - val_loss: 38397.3359\n",
      "Epoch 34/50\n",
      "\u001b[1m1237/1237\u001b[0m \u001b[32m━━━━━━━━━━━━━━━━━━━━\u001b[0m\u001b[37m\u001b[0m \u001b[1m0s\u001b[0m 363us/step - accuracy: 0.0000e+00 - loss: 38723.0781 - val_accuracy: 0.0000e+00 - val_loss: 37670.8438\n",
      "Epoch 35/50\n",
      "\u001b[1m1237/1237\u001b[0m \u001b[32m━━━━━━━━━━━━━━━━━━━━\u001b[0m\u001b[37m\u001b[0m \u001b[1m0s\u001b[0m 379us/step - accuracy: 0.0000e+00 - loss: 37961.9609 - val_accuracy: 0.0000e+00 - val_loss: 36971.7539\n",
      "Epoch 36/50\n",
      "\u001b[1m1237/1237\u001b[0m \u001b[32m━━━━━━━━━━━━━━━━━━━━\u001b[0m\u001b[37m\u001b[0m \u001b[1m0s\u001b[0m 368us/step - accuracy: 0.0000e+00 - loss: 37263.1016 - val_accuracy: 0.0000e+00 - val_loss: 36294.9648\n",
      "Epoch 37/50\n",
      "\u001b[1m1237/1237\u001b[0m \u001b[32m━━━━━━━━━━━━━━━━━━━━\u001b[0m\u001b[37m\u001b[0m \u001b[1m0s\u001b[0m 369us/step - accuracy: 0.0000e+00 - loss: 36566.7578 - val_accuracy: 0.0000e+00 - val_loss: 35653.6953\n",
      "Epoch 38/50\n",
      "\u001b[1m1237/1237\u001b[0m \u001b[32m━━━━━━━━━━━━━━━━━━━━\u001b[0m\u001b[37m\u001b[0m \u001b[1m1s\u001b[0m 403us/step - accuracy: 0.0000e+00 - loss: 35920.7578 - val_accuracy: 0.0000e+00 - val_loss: 35030.7148\n",
      "Epoch 39/50\n",
      "\u001b[1m1237/1237\u001b[0m \u001b[32m━━━━━━━━━━━━━━━━━━━━\u001b[0m\u001b[37m\u001b[0m \u001b[1m0s\u001b[0m 365us/step - accuracy: 0.0000e+00 - loss: 35290.0273 - val_accuracy: 0.0000e+00 - val_loss: 34436.2305\n",
      "Epoch 40/50\n",
      "\u001b[1m1237/1237\u001b[0m \u001b[32m━━━━━━━━━━━━━━━━━━━━\u001b[0m\u001b[37m\u001b[0m \u001b[1m0s\u001b[0m 362us/step - accuracy: 0.0000e+00 - loss: 34692.0430 - val_accuracy: 0.0000e+00 - val_loss: 33832.0664\n",
      "Epoch 41/50\n",
      "\u001b[1m1237/1237\u001b[0m \u001b[32m━━━━━━━━━━━━━━━━━━━━\u001b[0m\u001b[37m\u001b[0m \u001b[1m0s\u001b[0m 366us/step - accuracy: 0.0000e+00 - loss: 34093.6953 - val_accuracy: 0.0000e+00 - val_loss: 33252.4102\n",
      "Epoch 42/50\n",
      "\u001b[1m1237/1237\u001b[0m \u001b[32m━━━━━━━━━━━━━━━━━━━━\u001b[0m\u001b[37m\u001b[0m \u001b[1m0s\u001b[0m 362us/step - accuracy: 0.0000e+00 - loss: 33544.1953 - val_accuracy: 0.0000e+00 - val_loss: 32699.0410\n",
      "Epoch 43/50\n",
      "\u001b[1m1237/1237\u001b[0m \u001b[32m━━━━━━━━━━━━━━━━━━━━\u001b[0m\u001b[37m\u001b[0m \u001b[1m0s\u001b[0m 365us/step - accuracy: 0.0000e+00 - loss: 32998.4102 - val_accuracy: 0.0000e+00 - val_loss: 32178.1113\n",
      "Epoch 44/50\n",
      "\u001b[1m1237/1237\u001b[0m \u001b[32m━━━━━━━━━━━━━━━━━━━━\u001b[0m\u001b[37m\u001b[0m \u001b[1m0s\u001b[0m 361us/step - accuracy: 0.0000e+00 - loss: 32492.4551 - val_accuracy: 0.0000e+00 - val_loss: 31689.1250\n",
      "Epoch 45/50\n",
      "\u001b[1m1237/1237\u001b[0m \u001b[32m━━━━━━━━━━━━━━━━━━━━\u001b[0m\u001b[37m\u001b[0m \u001b[1m0s\u001b[0m 365us/step - accuracy: 0.0000e+00 - loss: 31994.7324 - val_accuracy: 0.0000e+00 - val_loss: 31187.7637\n",
      "Epoch 46/50\n",
      "\u001b[1m1237/1237\u001b[0m \u001b[32m━━━━━━━━━━━━━━━━━━━━\u001b[0m\u001b[37m\u001b[0m \u001b[1m0s\u001b[0m 367us/step - accuracy: 0.0000e+00 - loss: 31500.9473 - val_accuracy: 0.0000e+00 - val_loss: 30723.1953\n",
      "Epoch 47/50\n",
      "\u001b[1m1237/1237\u001b[0m \u001b[32m━━━━━━━━━━━━━━━━━━━━\u001b[0m\u001b[37m\u001b[0m \u001b[1m0s\u001b[0m 371us/step - accuracy: 0.0000e+00 - loss: 31042.7227 - val_accuracy: 0.0000e+00 - val_loss: 30289.6543\n",
      "Epoch 48/50\n",
      "\u001b[1m1237/1237\u001b[0m \u001b[32m━━━━━━━━━━━━━━━━━━━━\u001b[0m\u001b[37m\u001b[0m \u001b[1m0s\u001b[0m 365us/step - accuracy: 0.0000e+00 - loss: 30586.8984 - val_accuracy: 0.0000e+00 - val_loss: 29845.9297\n",
      "Epoch 49/50\n",
      "\u001b[1m1237/1237\u001b[0m \u001b[32m━━━━━━━━━━━━━━━━━━━━\u001b[0m\u001b[37m\u001b[0m \u001b[1m0s\u001b[0m 380us/step - accuracy: 0.0000e+00 - loss: 30125.3535 - val_accuracy: 0.0000e+00 - val_loss: 29434.9082\n",
      "Epoch 50/50\n",
      "\u001b[1m1237/1237\u001b[0m \u001b[32m━━━━━━━━━━━━━━━━━━━━\u001b[0m\u001b[37m\u001b[0m \u001b[1m0s\u001b[0m 360us/step - accuracy: 0.0000e+00 - loss: 29703.5684 - val_accuracy: 0.0000e+00 - val_loss: 29012.3320\n"
     ]
    }
   ],
   "source": [
    "# Train the model\n",
    "history = model.fit(X_train_scaled, y_train, epochs=50, batch_size=32, validation_split=0.2, verbose=1)"
   ]
  },
  {
   "cell_type": "code",
   "execution_count": 17,
   "metadata": {},
   "outputs": [],
   "source": [
    "#model.save()"
   ]
  },
  {
   "cell_type": "code",
   "execution_count": 18,
   "metadata": {},
   "outputs": [
    {
     "data": {
      "image/png": "[encoded data removed]",
      "text/plain": [
       "<Figure size 640x480 with 1 Axes>"
      ]
     },
     "metadata": {},
     "output_type": "display_data"
    },
    {
     "name": "stdout",
     "output_type": "stream",
     "text": [
      "\u001b[1m387/387\u001b[0m \u001b[32m━━━━━━━━━━━━━━━━━━━━\u001b[0m\u001b[37m\u001b[0m \u001b[1m0s\u001b[0m 296us/step - accuracy: 0.0000e+00 - loss: 28574.2480\n",
      "Test Loss: [28575.099609375, 0.0]\n",
      "\u001b[1m387/387\u001b[0m \u001b[32m━━━━━━━━━━━━━━━━━━━━\u001b[0m\u001b[37m\u001b[0m \u001b[1m0s\u001b[0m 273us/step\n"
     ]
    },
    {
     "data": {
      "image/png": "[encoded data removed]",
      "text/plain": [
       "<Figure size 640x480 with 1 Axes>"
      ]
     },
     "metadata": {},
     "output_type": "display_data"
    }
   ],
   "source": [
    "# Plot the training and validation loss\n",
    "plt.plot(history.history['loss'], label='train')\n",
    "plt.plot(history.history['val_loss'], label='validation')\n",
    "plt.xlabel('Epochs')\n",
    "plt.ylabel('Loss')\n",
    "plt.legend()\n",
    "plt.show()\n",
    "\n",
    "# Evaluate the model on the test set\n",
    "test_loss = model.evaluate(X_test_scaled, y_test)\n",
    "print(f\"Test Loss: {test_loss}\")\n",
    "\n",
    "# Make predictions on the test set\n",
    "y_pred = model.predict(X_test_scaled)\n",
    "\n",
    "# Plot predicted vs actual values\n",
    "plt.scatter(y_test, y_pred)\n",
    "plt.xlabel('Actual Values')\n",
    "plt.ylabel('Predicted Values')\n",
    "plt.plot([min(y_test), max(y_test)], [min(y_test), max(y_test)], color='red')  # Diagonal line\n",
    "plt.show()\n"
   ]
  }
 ],
 "metadata": {
  "kernelspec": {
   "display_name": "research",
   "language": "python",
   "name": "python3"
  },
  "language_info": {
   "codemirror_mode": {
    "name": "ipython",
    "version": 3
   },
   "file_extension": ".py",
   "mimetype": "text/x-python",
   "name": "python",
   "nbconvert_exporter": "python",
   "pygments_lexer": "ipython3",
   "version": "3.12.2"
  }
 },
 "nbformat": 4,
 "nbformat_minor": 2
}

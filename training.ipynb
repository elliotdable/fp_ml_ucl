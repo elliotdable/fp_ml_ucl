{
 "cells": [
  {
   "cell_type": "markdown",
   "metadata": {},
   "source": [
    "# Training Models"
   ]
  },
  {
   "cell_type": "markdown",
   "metadata": {},
   "source": [
    "## Loading in the data"
   ]
  },
  {
   "cell_type": "code",
   "execution_count": 14,
   "metadata": {},
   "outputs": [],
   "source": [
    "import pandas as pd \n",
    "import numpy as np\n",
    "import matplotlib.pyplot as plt\n",
    "\n",
    "# load in all of the data\n",
    "sodankyla = pd.read_csv(r\"/Users/elliotdable/Documents/UCL/research/fabry_perot_ml/sodankyla_fpi/sodankyla_red_merged(0.1_hours_diff).csv\")\n",
    "kiruna = pd.read_csv(r\"/Users/elliotdable/Documents/UCL/research/fabry_perot_ml/kiruna_fpi/kiruna_red_merged(0.1_hours_diff).csv\")\n",
    "\n",
    "# all datetime columns need to be converted back to datetime from string as pandas cant save them in this format\n",
    "sodankyla.datetime = pd.to_datetime(sodankyla.datetime)\n",
    "kiruna.datetime = pd.to_datetime(kiruna.datetime)"
   ]
  },
  {
   "cell_type": "code",
   "execution_count": 15,
   "metadata": {},
   "outputs": [
    {
     "data": {
      "text/html": [
       "<div>\n",
       "<style scoped>\n",
       "    .dataframe tbody tr th:only-of-type {\n",
       "        vertical-align: middle;\n",
       "    }\n",
       "\n",
       "    .dataframe tbody tr th {\n",
       "        vertical-align: top;\n",
       "    }\n",
       "\n",
       "    .dataframe thead th {\n",
       "        text-align: right;\n",
       "    }\n",
       "</style>\n",
       "<table border=\"1\" class=\"dataframe\">\n",
       "  <thead>\n",
       "    <tr style=\"text-align: right;\">\n",
       "      <th></th>\n",
       "      <th>mirror</th>\n",
       "      <th>intensity</th>\n",
       "      <th>intensityError</th>\n",
       "      <th>windSpeed</th>\n",
       "      <th>windSpeedError</th>\n",
       "      <th>temp</th>\n",
       "      <th>tempError</th>\n",
       "      <th>chiSquared</th>\n",
       "      <th>sigToNoiseRatio</th>\n",
       "      <th>datetime</th>\n",
       "      <th>sensorTemp</th>\n",
       "      <th>skyTemp</th>\n",
       "      <th>clarity</th>\n",
       "      <th>light</th>\n",
       "      <th>rain</th>\n",
       "    </tr>\n",
       "  </thead>\n",
       "  <tbody>\n",
       "    <tr>\n",
       "      <th>0</th>\n",
       "      <td>15</td>\n",
       "      <td>19445.41</td>\n",
       "      <td>105.44</td>\n",
       "      <td>-21.77</td>\n",
       "      <td>3.26</td>\n",
       "      <td>409.98</td>\n",
       "      <td>6.53</td>\n",
       "      <td>0.12</td>\n",
       "      <td>24868.0</td>\n",
       "      <td>2019-02-01 15:16:03</td>\n",
       "      <td>2.3</td>\n",
       "      <td>-40.6</td>\n",
       "      <td>42.8</td>\n",
       "      <td>0.0</td>\n",
       "      <td>0.0</td>\n",
       "    </tr>\n",
       "    <tr>\n",
       "      <th>1</th>\n",
       "      <td>4</td>\n",
       "      <td>25100.11</td>\n",
       "      <td>79.40</td>\n",
       "      <td>-27.46</td>\n",
       "      <td>2.57</td>\n",
       "      <td>1567.10</td>\n",
       "      <td>14.51</td>\n",
       "      <td>0.37</td>\n",
       "      <td>71291.0</td>\n",
       "      <td>2019-02-01 15:19:09</td>\n",
       "      <td>2.3</td>\n",
       "      <td>-40.8</td>\n",
       "      <td>43.0</td>\n",
       "      <td>0.0</td>\n",
       "      <td>-0.2</td>\n",
       "    </tr>\n",
       "    <tr>\n",
       "      <th>2</th>\n",
       "      <td>14</td>\n",
       "      <td>31737.28</td>\n",
       "      <td>106.74</td>\n",
       "      <td>-7.93</td>\n",
       "      <td>2.73</td>\n",
       "      <td>1540.68</td>\n",
       "      <td>15.14</td>\n",
       "      <td>0.38</td>\n",
       "      <td>62523.0</td>\n",
       "      <td>2019-02-01 15:19:46</td>\n",
       "      <td>2.3</td>\n",
       "      <td>-41.7</td>\n",
       "      <td>44.0</td>\n",
       "      <td>0.0</td>\n",
       "      <td>-0.2</td>\n",
       "    </tr>\n",
       "    <tr>\n",
       "      <th>3</th>\n",
       "      <td>1</td>\n",
       "      <td>29767.50</td>\n",
       "      <td>98.48</td>\n",
       "      <td>-19.43</td>\n",
       "      <td>2.69</td>\n",
       "      <td>1547.51</td>\n",
       "      <td>14.96</td>\n",
       "      <td>0.37</td>\n",
       "      <td>64765.0</td>\n",
       "      <td>2019-02-01 15:22:52</td>\n",
       "      <td>2.2</td>\n",
       "      <td>-40.4</td>\n",
       "      <td>42.6</td>\n",
       "      <td>0.0</td>\n",
       "      <td>-0.1</td>\n",
       "    </tr>\n",
       "    <tr>\n",
       "      <th>4</th>\n",
       "      <td>8</td>\n",
       "      <td>19014.86</td>\n",
       "      <td>69.20</td>\n",
       "      <td>-53.74</td>\n",
       "      <td>2.95</td>\n",
       "      <td>1611.52</td>\n",
       "      <td>17.21</td>\n",
       "      <td>0.59</td>\n",
       "      <td>54783.0</td>\n",
       "      <td>2019-02-01 15:23:21</td>\n",
       "      <td>2.2</td>\n",
       "      <td>-40.4</td>\n",
       "      <td>42.6</td>\n",
       "      <td>0.0</td>\n",
       "      <td>-0.1</td>\n",
       "    </tr>\n",
       "    <tr>\n",
       "      <th>...</th>\n",
       "      <td>...</td>\n",
       "      <td>...</td>\n",
       "      <td>...</td>\n",
       "      <td>...</td>\n",
       "      <td>...</td>\n",
       "      <td>...</td>\n",
       "      <td>...</td>\n",
       "      <td>...</td>\n",
       "      <td>...</td>\n",
       "      <td>...</td>\n",
       "      <td>...</td>\n",
       "      <td>...</td>\n",
       "      <td>...</td>\n",
       "      <td>...</td>\n",
       "      <td>...</td>\n",
       "    </tr>\n",
       "    <tr>\n",
       "      <th>61860</th>\n",
       "      <td>4</td>\n",
       "      <td>11350.52</td>\n",
       "      <td>140.89</td>\n",
       "      <td>2.41</td>\n",
       "      <td>9.34</td>\n",
       "      <td>2133.92</td>\n",
       "      <td>77.00</td>\n",
       "      <td>0.12</td>\n",
       "      <td>6100.0</td>\n",
       "      <td>2023-02-14 05:07:32</td>\n",
       "      <td>10.8</td>\n",
       "      <td>-7.2</td>\n",
       "      <td>18.0</td>\n",
       "      <td>0.0</td>\n",
       "      <td>-0.1</td>\n",
       "    </tr>\n",
       "    <tr>\n",
       "      <th>61861</th>\n",
       "      <td>14</td>\n",
       "      <td>12052.06</td>\n",
       "      <td>142.05</td>\n",
       "      <td>25.17</td>\n",
       "      <td>8.96</td>\n",
       "      <td>2094.00</td>\n",
       "      <td>71.97</td>\n",
       "      <td>0.14</td>\n",
       "      <td>6595.0</td>\n",
       "      <td>2023-02-14 05:08:40</td>\n",
       "      <td>10.8</td>\n",
       "      <td>-7.1</td>\n",
       "      <td>18.0</td>\n",
       "      <td>0.0</td>\n",
       "      <td>-0.1</td>\n",
       "    </tr>\n",
       "    <tr>\n",
       "      <th>61862</th>\n",
       "      <td>1</td>\n",
       "      <td>13253.51</td>\n",
       "      <td>150.48</td>\n",
       "      <td>37.98</td>\n",
       "      <td>8.38</td>\n",
       "      <td>2200.38</td>\n",
       "      <td>72.17</td>\n",
       "      <td>0.19</td>\n",
       "      <td>7616.0</td>\n",
       "      <td>2023-02-14 05:09:47</td>\n",
       "      <td>10.8</td>\n",
       "      <td>-6.7</td>\n",
       "      <td>17.5</td>\n",
       "      <td>0.0</td>\n",
       "      <td>-0.2</td>\n",
       "    </tr>\n",
       "    <tr>\n",
       "      <th>61863</th>\n",
       "      <td>8</td>\n",
       "      <td>13009.21</td>\n",
       "      <td>72.20</td>\n",
       "      <td>-124.14</td>\n",
       "      <td>4.54</td>\n",
       "      <td>1606.46</td>\n",
       "      <td>26.12</td>\n",
       "      <td>0.58</td>\n",
       "      <td>23378.0</td>\n",
       "      <td>2023-02-14 05:10:16</td>\n",
       "      <td>10.8</td>\n",
       "      <td>-6.7</td>\n",
       "      <td>17.5</td>\n",
       "      <td>0.0</td>\n",
       "      <td>-0.2</td>\n",
       "    </tr>\n",
       "    <tr>\n",
       "      <th>61864</th>\n",
       "      <td>8</td>\n",
       "      <td>13027.42</td>\n",
       "      <td>81.20</td>\n",
       "      <td>-126.46</td>\n",
       "      <td>5.10</td>\n",
       "      <td>1598.19</td>\n",
       "      <td>29.17</td>\n",
       "      <td>0.43</td>\n",
       "      <td>18489.0</td>\n",
       "      <td>2023-02-14 05:24:46</td>\n",
       "      <td>10.8</td>\n",
       "      <td>-7.3</td>\n",
       "      <td>18.1</td>\n",
       "      <td>0.0</td>\n",
       "      <td>0.0</td>\n",
       "    </tr>\n",
       "  </tbody>\n",
       "</table>\n",
       "<p>61865 rows × 15 columns</p>\n",
       "</div>"
      ],
      "text/plain": [
       "       mirror  intensity  intensityError  windSpeed  windSpeedError     temp  \\\n",
       "0          15   19445.41          105.44     -21.77            3.26   409.98   \n",
       "1           4   25100.11           79.40     -27.46            2.57  1567.10   \n",
       "2          14   31737.28          106.74      -7.93            2.73  1540.68   \n",
       "3           1   29767.50           98.48     -19.43            2.69  1547.51   \n",
       "4           8   19014.86           69.20     -53.74            2.95  1611.52   \n",
       "...       ...        ...             ...        ...             ...      ...   \n",
       "61860       4   11350.52          140.89       2.41            9.34  2133.92   \n",
       "61861      14   12052.06          142.05      25.17            8.96  2094.00   \n",
       "61862       1   13253.51          150.48      37.98            8.38  2200.38   \n",
       "61863       8   13009.21           72.20    -124.14            4.54  1606.46   \n",
       "61864       8   13027.42           81.20    -126.46            5.10  1598.19   \n",
       "\n",
       "       tempError  chiSquared  sigToNoiseRatio            datetime  sensorTemp  \\\n",
       "0           6.53        0.12          24868.0 2019-02-01 15:16:03         2.3   \n",
       "1          14.51        0.37          71291.0 2019-02-01 15:19:09         2.3   \n",
       "2          15.14        0.38          62523.0 2019-02-01 15:19:46         2.3   \n",
       "3          14.96        0.37          64765.0 2019-02-01 15:22:52         2.2   \n",
       "4          17.21        0.59          54783.0 2019-02-01 15:23:21         2.2   \n",
       "...          ...         ...              ...                 ...         ...   \n",
       "61860      77.00        0.12           6100.0 2023-02-14 05:07:32        10.8   \n",
       "61861      71.97        0.14           6595.0 2023-02-14 05:08:40        10.8   \n",
       "61862      72.17        0.19           7616.0 2023-02-14 05:09:47        10.8   \n",
       "61863      26.12        0.58          23378.0 2023-02-14 05:10:16        10.8   \n",
       "61864      29.17        0.43          18489.0 2023-02-14 05:24:46        10.8   \n",
       "\n",
       "       skyTemp  clarity  light  rain  \n",
       "0        -40.6     42.8    0.0   0.0  \n",
       "1        -40.8     43.0    0.0  -0.2  \n",
       "2        -41.7     44.0    0.0  -0.2  \n",
       "3        -40.4     42.6    0.0  -0.1  \n",
       "4        -40.4     42.6    0.0  -0.1  \n",
       "...        ...      ...    ...   ...  \n",
       "61860     -7.2     18.0    0.0  -0.1  \n",
       "61861     -7.1     18.0    0.0  -0.1  \n",
       "61862     -6.7     17.5    0.0  -0.2  \n",
       "61863     -6.7     17.5    0.0  -0.2  \n",
       "61864     -7.3     18.1    0.0   0.0  \n",
       "\n",
       "[61865 rows x 15 columns]"
      ]
     },
     "execution_count": 15,
     "metadata": {},
     "output_type": "execute_result"
    }
   ],
   "source": [
    "sodankyla"
   ]
  },
  {
   "cell_type": "code",
   "execution_count": 16,
   "metadata": {},
   "outputs": [
    {
     "data": {
      "text/html": [
       "<div>\n",
       "<style scoped>\n",
       "    .dataframe tbody tr th:only-of-type {\n",
       "        vertical-align: middle;\n",
       "    }\n",
       "\n",
       "    .dataframe tbody tr th {\n",
       "        vertical-align: top;\n",
       "    }\n",
       "\n",
       "    .dataframe thead th {\n",
       "        text-align: right;\n",
       "    }\n",
       "</style>\n",
       "<table border=\"1\" class=\"dataframe\">\n",
       "  <thead>\n",
       "    <tr style=\"text-align: right;\">\n",
       "      <th></th>\n",
       "      <th>mirror</th>\n",
       "      <th>intensity</th>\n",
       "      <th>intensityError</th>\n",
       "      <th>windSpeed</th>\n",
       "      <th>windSpeedError</th>\n",
       "      <th>temp</th>\n",
       "      <th>tempError</th>\n",
       "      <th>chiSquared</th>\n",
       "      <th>sigToNoiseRatio</th>\n",
       "      <th>datetime</th>\n",
       "      <th>sensorTemp</th>\n",
       "      <th>skyTemp</th>\n",
       "      <th>clarity</th>\n",
       "      <th>light</th>\n",
       "      <th>rain</th>\n",
       "    </tr>\n",
       "  </thead>\n",
       "  <tbody>\n",
       "    <tr>\n",
       "      <th>0</th>\n",
       "      <td>8</td>\n",
       "      <td>1036.74</td>\n",
       "      <td>2.41</td>\n",
       "      <td>14.41</td>\n",
       "      <td>1.09</td>\n",
       "      <td>215.49</td>\n",
       "      <td>1.27</td>\n",
       "      <td>2.36</td>\n",
       "      <td>111212.0</td>\n",
       "      <td>2019-02-01 15:04:37</td>\n",
       "      <td>-2.5</td>\n",
       "      <td>-8.3</td>\n",
       "      <td>5.8</td>\n",
       "      <td>0.0</td>\n",
       "      <td>0.6</td>\n",
       "    </tr>\n",
       "    <tr>\n",
       "      <th>1</th>\n",
       "      <td>8</td>\n",
       "      <td>3315.85</td>\n",
       "      <td>4.06</td>\n",
       "      <td>1901.73</td>\n",
       "      <td>0.49</td>\n",
       "      <td>242.92</td>\n",
       "      <td>0.71</td>\n",
       "      <td>8.44</td>\n",
       "      <td>275712.0</td>\n",
       "      <td>2019-02-01 15:04:46</td>\n",
       "      <td>-2.5</td>\n",
       "      <td>-8.3</td>\n",
       "      <td>5.8</td>\n",
       "      <td>0.0</td>\n",
       "      <td>0.6</td>\n",
       "    </tr>\n",
       "    <tr>\n",
       "      <th>2</th>\n",
       "      <td>8</td>\n",
       "      <td>1668.01</td>\n",
       "      <td>2.95</td>\n",
       "      <td>2.65</td>\n",
       "      <td>1.31</td>\n",
       "      <td>882.96</td>\n",
       "      <td>3.96</td>\n",
       "      <td>2.57</td>\n",
       "      <td>190631.0</td>\n",
       "      <td>2019-02-01 15:10:17</td>\n",
       "      <td>-2.6</td>\n",
       "      <td>-8.4</td>\n",
       "      <td>5.9</td>\n",
       "      <td>0.0</td>\n",
       "      <td>0.7</td>\n",
       "    </tr>\n",
       "    <tr>\n",
       "      <th>3</th>\n",
       "      <td>8</td>\n",
       "      <td>3305.77</td>\n",
       "      <td>3.49</td>\n",
       "      <td>1905.15</td>\n",
       "      <td>0.43</td>\n",
       "      <td>244.44</td>\n",
       "      <td>0.62</td>\n",
       "      <td>11.96</td>\n",
       "      <td>372759.0</td>\n",
       "      <td>2019-02-01 15:10:28</td>\n",
       "      <td>-2.6</td>\n",
       "      <td>-8.4</td>\n",
       "      <td>5.9</td>\n",
       "      <td>0.0</td>\n",
       "      <td>0.7</td>\n",
       "    </tr>\n",
       "    <tr>\n",
       "      <th>4</th>\n",
       "      <td>8</td>\n",
       "      <td>1674.81</td>\n",
       "      <td>3.05</td>\n",
       "      <td>12.87</td>\n",
       "      <td>1.35</td>\n",
       "      <td>886.85</td>\n",
       "      <td>4.10</td>\n",
       "      <td>2.25</td>\n",
       "      <td>179485.0</td>\n",
       "      <td>2019-02-01 15:16:08</td>\n",
       "      <td>-2.5</td>\n",
       "      <td>-8.2</td>\n",
       "      <td>5.7</td>\n",
       "      <td>0.0</td>\n",
       "      <td>0.7</td>\n",
       "    </tr>\n",
       "    <tr>\n",
       "      <th>...</th>\n",
       "      <td>...</td>\n",
       "      <td>...</td>\n",
       "      <td>...</td>\n",
       "      <td>...</td>\n",
       "      <td>...</td>\n",
       "      <td>...</td>\n",
       "      <td>...</td>\n",
       "      <td>...</td>\n",
       "      <td>...</td>\n",
       "      <td>...</td>\n",
       "      <td>...</td>\n",
       "      <td>...</td>\n",
       "      <td>...</td>\n",
       "      <td>...</td>\n",
       "      <td>...</td>\n",
       "    </tr>\n",
       "    <tr>\n",
       "      <th>61424</th>\n",
       "      <td>7</td>\n",
       "      <td>2114.59</td>\n",
       "      <td>10.77</td>\n",
       "      <td>88.60</td>\n",
       "      <td>4.64</td>\n",
       "      <td>1430.11</td>\n",
       "      <td>19.41</td>\n",
       "      <td>0.13</td>\n",
       "      <td>23592.0</td>\n",
       "      <td>2023-03-01 00:02:19</td>\n",
       "      <td>8.2</td>\n",
       "      <td>-4.5</td>\n",
       "      <td>12.6</td>\n",
       "      <td>0.0</td>\n",
       "      <td>0.0</td>\n",
       "    </tr>\n",
       "    <tr>\n",
       "      <th>61425</th>\n",
       "      <td>2</td>\n",
       "      <td>2929.48</td>\n",
       "      <td>12.49</td>\n",
       "      <td>138.31</td>\n",
       "      <td>3.82</td>\n",
       "      <td>1377.23</td>\n",
       "      <td>15.57</td>\n",
       "      <td>0.12</td>\n",
       "      <td>33577.0</td>\n",
       "      <td>2023-03-01 00:03:04</td>\n",
       "      <td>8.2</td>\n",
       "      <td>-4.5</td>\n",
       "      <td>12.6</td>\n",
       "      <td>0.0</td>\n",
       "      <td>0.0</td>\n",
       "    </tr>\n",
       "    <tr>\n",
       "      <th>61426</th>\n",
       "      <td>8</td>\n",
       "      <td>9813.38</td>\n",
       "      <td>17.64</td>\n",
       "      <td>13.98</td>\n",
       "      <td>1.26</td>\n",
       "      <td>777.89</td>\n",
       "      <td>3.51</td>\n",
       "      <td>1.30</td>\n",
       "      <td>175454.0</td>\n",
       "      <td>2023-03-01 00:03:43</td>\n",
       "      <td>8.2</td>\n",
       "      <td>-4.5</td>\n",
       "      <td>12.6</td>\n",
       "      <td>0.0</td>\n",
       "      <td>0.0</td>\n",
       "    </tr>\n",
       "    <tr>\n",
       "      <th>61427</th>\n",
       "      <td>12</td>\n",
       "      <td>2534.86</td>\n",
       "      <td>9.84</td>\n",
       "      <td>141.08</td>\n",
       "      <td>3.54</td>\n",
       "      <td>1440.30</td>\n",
       "      <td>14.91</td>\n",
       "      <td>0.13</td>\n",
       "      <td>40700.0</td>\n",
       "      <td>2023-03-01 00:04:20</td>\n",
       "      <td>8.2</td>\n",
       "      <td>-4.5</td>\n",
       "      <td>12.6</td>\n",
       "      <td>0.0</td>\n",
       "      <td>0.0</td>\n",
       "    </tr>\n",
       "    <tr>\n",
       "      <th>61428</th>\n",
       "      <td>3</td>\n",
       "      <td>2743.76</td>\n",
       "      <td>11.54</td>\n",
       "      <td>166.38</td>\n",
       "      <td>3.82</td>\n",
       "      <td>1424.27</td>\n",
       "      <td>15.94</td>\n",
       "      <td>0.10</td>\n",
       "      <td>34690.0</td>\n",
       "      <td>2023-03-01 00:04:56</td>\n",
       "      <td>8.2</td>\n",
       "      <td>-4.5</td>\n",
       "      <td>12.6</td>\n",
       "      <td>0.0</td>\n",
       "      <td>0.0</td>\n",
       "    </tr>\n",
       "  </tbody>\n",
       "</table>\n",
       "<p>61429 rows × 15 columns</p>\n",
       "</div>"
      ],
      "text/plain": [
       "       mirror  intensity  intensityError  windSpeed  windSpeedError     temp  \\\n",
       "0           8    1036.74            2.41      14.41            1.09   215.49   \n",
       "1           8    3315.85            4.06    1901.73            0.49   242.92   \n",
       "2           8    1668.01            2.95       2.65            1.31   882.96   \n",
       "3           8    3305.77            3.49    1905.15            0.43   244.44   \n",
       "4           8    1674.81            3.05      12.87            1.35   886.85   \n",
       "...       ...        ...             ...        ...             ...      ...   \n",
       "61424       7    2114.59           10.77      88.60            4.64  1430.11   \n",
       "61425       2    2929.48           12.49     138.31            3.82  1377.23   \n",
       "61426       8    9813.38           17.64      13.98            1.26   777.89   \n",
       "61427      12    2534.86            9.84     141.08            3.54  1440.30   \n",
       "61428       3    2743.76           11.54     166.38            3.82  1424.27   \n",
       "\n",
       "       tempError  chiSquared  sigToNoiseRatio            datetime  sensorTemp  \\\n",
       "0           1.27        2.36         111212.0 2019-02-01 15:04:37        -2.5   \n",
       "1           0.71        8.44         275712.0 2019-02-01 15:04:46        -2.5   \n",
       "2           3.96        2.57         190631.0 2019-02-01 15:10:17        -2.6   \n",
       "3           0.62       11.96         372759.0 2019-02-01 15:10:28        -2.6   \n",
       "4           4.10        2.25         179485.0 2019-02-01 15:16:08        -2.5   \n",
       "...          ...         ...              ...                 ...         ...   \n",
       "61424      19.41        0.13          23592.0 2023-03-01 00:02:19         8.2   \n",
       "61425      15.57        0.12          33577.0 2023-03-01 00:03:04         8.2   \n",
       "61426       3.51        1.30         175454.0 2023-03-01 00:03:43         8.2   \n",
       "61427      14.91        0.13          40700.0 2023-03-01 00:04:20         8.2   \n",
       "61428      15.94        0.10          34690.0 2023-03-01 00:04:56         8.2   \n",
       "\n",
       "       skyTemp  clarity  light  rain  \n",
       "0         -8.3      5.8    0.0   0.6  \n",
       "1         -8.3      5.8    0.0   0.6  \n",
       "2         -8.4      5.9    0.0   0.7  \n",
       "3         -8.4      5.9    0.0   0.7  \n",
       "4         -8.2      5.7    0.0   0.7  \n",
       "...        ...      ...    ...   ...  \n",
       "61424     -4.5     12.6    0.0   0.0  \n",
       "61425     -4.5     12.6    0.0   0.0  \n",
       "61426     -4.5     12.6    0.0   0.0  \n",
       "61427     -4.5     12.6    0.0   0.0  \n",
       "61428     -4.5     12.6    0.0   0.0  \n",
       "\n",
       "[61429 rows x 15 columns]"
      ]
     },
     "execution_count": 16,
     "metadata": {},
     "output_type": "execute_result"
    }
   ],
   "source": [
    "kiruna"
   ]
  },
  {
   "cell_type": "markdown",
   "metadata": {},
   "source": [
    "We're going to need ome type of regression algorithm to model relationships between the data"
   ]
  },
  {
   "cell_type": "markdown",
   "metadata": {},
   "source": [
    "## Regression"
   ]
  },
  {
   "cell_type": "markdown",
   "metadata": {},
   "source": [
    "Set paramters"
   ]
  },
  {
   "cell_type": "code",
   "execution_count": 17,
   "metadata": {},
   "outputs": [],
   "source": [
    "# Common imports\n",
    "import os\n",
    "import numpy as np\n",
    "np.random.seed(42) # To make this notebook's output stable across runs\n",
    "\n",
    "# To plot pretty figures\n",
    "%matplotlib inline\n",
    "import matplotlib\n",
    "import matplotlib.pyplot as plt\n",
    "plt.rcParams['axes.labelsize'] = 14\n",
    "plt.rcParams['xtick.labelsize'] = 12\n",
    "plt.rcParams['ytick.labelsize'] = 12"
   ]
  },
  {
   "cell_type": "markdown",
   "metadata": {},
   "source": [
    "Remind us of what column are available to use"
   ]
  },
  {
   "cell_type": "code",
   "execution_count": 18,
   "metadata": {},
   "outputs": [
    {
     "data": {
      "text/plain": [
       "Index(['mirror', 'intensity', 'intensityError', 'windSpeed', 'windSpeedError',\n",
       "       'temp', 'tempError', 'chiSquared', 'sigToNoiseRatio', 'datetime',\n",
       "       'sensorTemp', 'skyTemp', 'clarity', 'light', 'rain'],\n",
       "      dtype='object')"
      ]
     },
     "execution_count": 18,
     "metadata": {},
     "output_type": "execute_result"
    }
   ],
   "source": [
    "sodankyla.keys()"
   ]
  },
  {
   "cell_type": "markdown",
   "metadata": {},
   "source": [
    "### Linear Regression"
   ]
  },
  {
   "cell_type": "markdown",
   "metadata": {},
   "source": [
    "Set up a basic Linear regression which uses two columns and initilaise inout and target variables"
   ]
  },
  {
   "cell_type": "code",
   "execution_count": 19,
   "metadata": {},
   "outputs": [],
   "source": [
    "# Importing necessary libraries\n",
    "import numpy as np\n",
    "from sklearn.model_selection import train_test_split, cross_val_score\n",
    "from sklearn.linear_model import LinearRegression\n",
    "from sklearn.metrics import mean_squared_error\n",
    "\n",
    "# choose these as your input (X), an your target (y), chamge them as needed\n",
    "X = np.array(kiruna.windSpeed).reshape(-1,1)\n",
    "y = np.array(kiruna.temp).reshape(-1,1)"
   ]
  },
  {
   "cell_type": "markdown",
   "metadata": {},
   "source": [
    "Perform a simple linear regression"
   ]
  },
  {
   "cell_type": "code",
   "execution_count": 20,
   "metadata": {},
   "outputs": [
    {
     "name": "stdout",
     "output_type": "stream",
     "text": [
      "Mean Squared Error: 122259.33198273786\n"
     ]
    }
   ],
   "source": [
    "# Splitting the dataset into training and testing sets\n",
    "X_train, X_test, y_train, y_test = train_test_split(X, y, test_size=0.2, random_state=42)\n",
    "\n",
    "# Creating a Linear Regression model\n",
    "linear_regression = LinearRegression()\n",
    "\n",
    "# Training the model\n",
    "linear_regression.fit(X_train, y_train)\n",
    "\n",
    "# Making predictions on the testing set\n",
    "predictions = linear_regression.predict(X_test)\n",
    "\n",
    "# Evaluating the model\n",
    "mse = mean_squared_error(y_test, predictions)\n",
    "print(\"Mean Squared Error:\", mse)"
   ]
  },
  {
   "cell_type": "markdown",
   "metadata": {},
   "source": [
    "Plot the results"
   ]
  },
  {
   "cell_type": "code",
   "execution_count": 21,
   "metadata": {},
   "outputs": [
    {
     "data": {
      "text/plain": [
       "<matplotlib.legend.Legend at 0x31e13c950>"
      ]
     },
     "execution_count": 21,
     "metadata": {},
     "output_type": "execute_result"
    },
    {
     "data": {
      "image/png": "[encoded data removed]",
      "text/plain": [
       "<Figure size 1000x600 with 1 Axes>"
      ]
     },
     "metadata": {},
     "output_type": "display_data"
    }
   ],
   "source": [
    "# Scatter plot the data points\n",
    "plt.figure(figsize=(10, 6))\n",
    "plt.scatter(X, y, color='blue', label='Data')\n",
    "\n",
    "# Plot the regression line\n",
    "plt.plot(X, linear_regression.predict(X), color='red', label='Linear Regression Model')\n",
    "\n",
    "# Add labels and title\n",
    "plt.xlabel('Independent Variable')\n",
    "plt.ylabel('Dependent Variable')\n",
    "plt.title('Linear Regression')\n",
    "plt.legend()"
   ]
  },
  {
   "cell_type": "markdown",
   "metadata": {},
   "source": [
    "### Polynomial Regression"
   ]
  },
  {
   "cell_type": "markdown",
   "metadata": {},
   "source": [
    "Initialise polynomial linear regression"
   ]
  },
  {
   "cell_type": "code",
   "execution_count": 22,
   "metadata": {},
   "outputs": [
    {
     "data": {
      "text/plain": [
       "(array([14.41]),\n",
       " array([1.44100000e+01, 2.07648100e+02, 2.99220912e+03, 4.31177334e+04,\n",
       "        6.21326539e+05, 8.95331542e+06, 1.29017275e+08, 1.85913894e+09,\n",
       "        2.67901921e+10, 3.86046668e+11]))"
      ]
     },
     "execution_count": 22,
     "metadata": {},
     "output_type": "execute_result"
    }
   ],
   "source": [
    "from sklearn.preprocessing import PolynomialFeatures\n",
    "\n",
    "# the degree can be adjusted to suit the data\n",
    "n = 10\n",
    "poly_features = PolynomialFeatures(degree=n, include_bias=False)\n",
    "\n",
    "# map the polynomial to transform X, the model output now has n features for each data point\n",
    "X_poly = poly_features.fit_transform(X)  \n",
    "X[0], X_poly[0]"
   ]
  },
  {
   "cell_type": "code",
   "execution_count": 23,
   "metadata": {},
   "outputs": [
    {
     "data": {
      "text/plain": [
       "((61429, 1), (61429, 10))"
      ]
     },
     "execution_count": 23,
     "metadata": {},
     "output_type": "execute_result"
    }
   ],
   "source": [
    "X.shape, X_poly.shape"
   ]
  },
  {
   "cell_type": "code",
   "execution_count": 24,
   "metadata": {},
   "outputs": [
    {
     "data": {
      "text/plain": [
       "(array([1195.06193568]),\n",
       " array([[-9.07010259e-43,  6.01258262e-29,  1.61100777e-31,\n",
       "         -1.90198503e-33, -4.98373263e-29, -7.18884790e-27,\n",
       "         -3.44258201e-22, -1.25661867e-25,  1.70647405e-29,\n",
       "          6.14735097e-33]]))"
      ]
     },
     "execution_count": 24,
     "metadata": {},
     "output_type": "execute_result"
    }
   ],
   "source": [
    "from sklearn.linear_model import LinearRegression\n",
    "lin_reg = LinearRegression()\n",
    "lin_reg.fit(X_poly, y)\n",
    "lin_reg.intercept_, lin_reg.coef_"
   ]
  },
  {
   "cell_type": "code",
   "execution_count": 25,
   "metadata": {},
   "outputs": [
    {
     "data": {
      "image/png": "[encoded data removed]",
      "text/plain": [
       "<Figure size 1000x500 with 1 Axes>"
      ]
     },
     "metadata": {},
     "output_type": "display_data"
    }
   ],
   "source": [
    "y_pred = lin_reg.predict(X_poly)\n",
    "plt.figure(figsize=(10,5))\n",
    "plt.plot(X, y, \"b.\")\n",
    "plt.plot(X, y_pred, \"r-\", linewidth=2, label=\"Polynomial Regression Model\")\n",
    "plt.xlabel(\"$x_1$\", fontsize=18)\n",
    "plt.ylabel(\"$y$\", rotation=0, fontsize=18)\n",
    "plt.legend(loc=\"upper left\", fontsize=14)\n",
    "plt.show()"
   ]
  },
  {
   "cell_type": "code",
   "execution_count": 30,
   "metadata": {},
   "outputs": [
    {
     "data": {
      "text/plain": [
       "<matplotlib.legend.Legend at 0x32cc9a690>"
      ]
     },
     "execution_count": 30,
     "metadata": {},
     "output_type": "execute_result"
    },
    {
     "data": {
      "image/png": "[encoded data removed]",
      "text/plain": [
       "<Figure size 1000x500 with 1 Axes>"
      ]
     },
     "metadata": {},
     "output_type": "display_data"
    }
   ],
   "source": [
    "X_new = np.linspace(min(X), max(X), len(X)).reshape(len(X), 1)\n",
    "X_new_poly = poly_features.transform(X_new)\n",
    "y_new = lin_reg.predict(X_poly)\n",
    "plt.figure(figsize=(10,5))\n",
    "plt.plot(X, y, \"b.\")\n",
    "plt.plot(X_new, y_new, \"r-\", linewidth=2, label=\"Predictions\")\n",
    "plt.xlabel(\"$x_1$\", fontsize=18)\n",
    "plt.ylabel(\"$y$\", rotation=0, fontsize=18)\n",
    "plt.legend(loc=\"upper left\", fontsize=14)"
   ]
  },
  {
   "cell_type": "code",
   "execution_count": null,
   "metadata": {},
   "outputs": [],
   "source": []
  }
 ],
 "metadata": {
  "kernelspec": {
   "display_name": "research",
   "language": "python",
   "name": "python3"
  },
  "language_info": {
   "codemirror_mode": {
    "name": "ipython",
    "version": 3
   },
   "file_extension": ".py",
   "mimetype": "text/x-python",
   "name": "python",
   "nbconvert_exporter": "python",
   "pygments_lexer": "ipython3",
   "version": "3.12.2"
  }
 },
 "nbformat": 4,
 "nbformat_minor": 2
}
